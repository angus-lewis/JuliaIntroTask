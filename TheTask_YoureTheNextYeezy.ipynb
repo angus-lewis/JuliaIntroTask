{
 "cells": [
  {
   "cell_type": "markdown",
   "metadata": {},
   "source": [
    "# Purpose \n",
    "This is a small practical aimed at newcomers to Julia.\n",
    "\n",
    "The idea is just to get you using Julia. \n",
    "\n",
    "We're going to play with some text data -- something which is clunky in MATLAB. \n",
    "\n",
    "# You're the next Kanye\n",
    "\n",
    "As an applied mathematician you think you can do everyone else's job. This is true. \n",
    "\n",
    "Here you are going to do Kanye's job and write a new Kanye song using \"ML\""
   ]
  },
  {
   "cell_type": "markdown",
   "metadata": {},
   "source": [
    "## Get the data \n",
    "\n",
    "You are going to \"train\" your model in the lyrics from Kanye's banger *Gold Digger*.\n",
    "\n",
    "The lyrics are in a .txt file on the web and you can get them with "
   ]
  },
  {
   "cell_type": "code",
   "execution_count": null,
   "metadata": {},
   "outputs": [],
   "source": [
    "file = download(\"https://raw.githubusercontent.com/Lyrics/lyrics/4040fb49c17fd317fcac21259cd7109a04585227/database/K/Kanye%20West/Late%20Registration/Gold%20Digger\")"
   ]
  },
  {
   "cell_type": "markdown",
   "metadata": {},
   "source": [
    "To read in the data you need the `DelimitedFiles.jl` package. To get it, do this"
   ]
  },
  {
   "cell_type": "code",
   "execution_count": null,
   "metadata": {},
   "outputs": [],
   "source": [
    "## Uncomment to download \n",
    "#using Pkg \n",
    "#Pkg.add(\"DelimitedFiles\")\n",
    "using DelimitedFiles"
   ]
  },
  {
   "cell_type": "markdown",
   "metadata": {},
   "source": [
    "Now read the data "
   ]
  },
  {
   "cell_type": "code",
   "execution_count": null,
   "metadata": {},
   "outputs": [],
   "source": [
    "data = readdlm(file, '\\n')"
   ]
  },
  {
   "cell_type": "markdown",
   "metadata": {},
   "source": [
    "# Clean the data \n",
    "\n",
    "I'm going to be less helpful now, but I'll give you some hints on how I approached the problem.\n",
    "\n",
    "To clean the data, you can use Julia's \n",
    "```\n",
    "lowercase.() \n",
    "ispunct()\n",
    "filter.() # try filter.(!ispunct,data), magic!\n",
    "split()\n",
    "```"
   ]
  },
  {
   "cell_type": "markdown",
   "metadata": {},
   "source": [
    "# Do some \"machine learning\"\n",
    "\n",
    "### Count the number of occurances of each word.\n",
    "\n",
    "Many ways to do this. \n",
    "\n",
    "I used a `Dict{String,Int}()` to store the words and a counter. \n",
    "\n",
    "FYI: A Dict is a bunch of (key, value) pairs. You index the Dict by the key. e.g."
   ]
  },
  {
   "cell_type": "code",
   "execution_count": null,
   "metadata": {},
   "outputs": [],
   "source": [
    "my_dict = Dict{String,Int}() # empty "
   ]
  },
  {
   "cell_type": "code",
   "execution_count": null,
   "metadata": {},
   "outputs": [],
   "source": [
    "my_dict[\"hello\"] = 1 # add key, values \n",
    "my_dict[\"world\"] = 2 # add key, values \n",
    "my_dict"
   ]
  },
  {
   "cell_type": "code",
   "execution_count": null,
   "metadata": {},
   "outputs": [],
   "source": [
    "my_dict[\"hello\"] # access value with key \"hello\""
   ]
  },
  {
   "cell_type": "code",
   "execution_count": null,
   "metadata": {},
   "outputs": [],
   "source": [
    "my_dict[\"hello\"] += 2 # change value\n",
    "my_dict"
   ]
  },
  {
   "cell_type": "markdown",
   "metadata": {},
   "source": [
    "You can get they keys with "
   ]
  },
  {
   "cell_type": "code",
   "execution_count": null,
   "metadata": {},
   "outputs": [],
   "source": [
    "keys(my_dict)"
   ]
  },
  {
   "cell_type": "markdown",
   "metadata": {},
   "source": [
    "and the values with "
   ]
  },
  {
   "cell_type": "code",
   "execution_count": null,
   "metadata": {},
   "outputs": [],
   "source": [
    "values(my_dict)"
   ]
  },
  {
   "cell_type": "markdown",
   "metadata": {},
   "source": [
    "To count words you can implement something like \n",
    "```\n",
    "for line in data\n",
    "    for word in line \n",
    "        # if word is not in Dict add it and set counter to 1\n",
    "        # if word is in Dict add one to the counter \n",
    "    end \n",
    "end\n",
    "```"
   ]
  },
  {
   "cell_type": "markdown",
   "metadata": {},
   "source": [
    "### Count bigrams (word pairs)\n",
    "\n",
    "I made a dict of dicts\n",
    "\n",
    "```\n",
    "bigrams[\"first_word\"] = \n",
    "    # Dict(the second word, a counter for how many times it appears after first word)\n",
    "```\n",
    "\n"
   ]
  },
  {
   "cell_type": "markdown",
   "metadata": {},
   "source": [
    "### Generate a random line \n",
    "\n",
    "1) Write a function to randomly generate a new line of lyrics sampling words independently.\n",
    "\n",
    "2) Write a function to randomly generate a new line of lyrics sampling words as bigrams.\n",
    "\n",
    "I found this helpful \n",
    "```\n",
    "using StatsBase \n",
    "\n",
    "# if the current word is \"a\"\n",
    "next_words = bigrams[\"a\"]\n",
    "sample(collect(keys(next_words)),Weights(collect(values(next_words))))\n",
    "```"
   ]
  },
  {
   "cell_type": "markdown",
   "metadata": {},
   "source": [
    "# Other things\n",
    "\n",
    "+ Do the lyrics follow Zipf's law? (plot word frequency against rank on log-log scale) \n",
    "+ Make an ordered histogram of word frequencies\n",
    "+ Download more data and train the model with more data"
   ]
  }
 ],
 "metadata": {
  "@webio": {
   "lastCommId": null,
   "lastKernelId": null
  },
  "kernelspec": {
   "display_name": "Julia 1.5.3",
   "language": "julia",
   "name": "julia-1.5"
  },
  "language_info": {
   "file_extension": ".jl",
   "mimetype": "application/julia",
   "name": "julia",
   "version": "1.5.3"
  }
 },
 "nbformat": 4,
 "nbformat_minor": 2
}
